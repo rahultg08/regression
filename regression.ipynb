{
 "cells": [
  {
   "cell_type": "code",
   "execution_count": 1,
   "id": "6fe83cf8",
   "metadata": {},
   "outputs": [],
   "source": [
    "import numpy as np\n",
    "import pandas as pd\n",
    "import matplotlib.pyplot as plt\n",
    "import seaborn as sb"
   ]
  },
  {
   "cell_type": "code",
   "execution_count": 2,
   "id": "04f0e590",
   "metadata": {},
   "outputs": [],
   "source": [
    "df = pd.read_csv(\"energydata_complete.csv\")"
   ]
  },
  {
   "cell_type": "code",
   "execution_count": 3,
   "id": "071d38ff",
   "metadata": {},
   "outputs": [],
   "source": [
    "from sklearn.preprocessing import MinMaxScaler\n",
    "scaler = MinMaxScaler()"
   ]
  },
  {
   "cell_type": "code",
   "execution_count": null,
   "id": "bb9036b5",
   "metadata": {},
   "outputs": [],
   "source": [
    "from sklearn.linear_model import Ridge\n",
    "ridge_reg = Ridge(alpha = 0.5)\n",
    "ridge_reg.fit(x_train, y_train)"
   ]
  },
  {
   "cell_type": "code",
   "execution_count": null,
   "id": "b5a87ec0",
   "metadata": {},
   "outputs": [],
   "source": [
    "from sklearn.linear_model import Lasso\n",
    "lasso_reg = Lasso(alpha = 0.001)\n",
    "lasso_reg.fit(X_train, y_train)"
   ]
  },
  {
   "cell_type": "code",
   "execution_count": null,
   "id": "a12ca51d",
   "metadata": {},
   "outputs": [],
   "source": [
    "def get_weights(model, feature, col):\n",
    "    weight = pd.Series(model.coef_, feature.columns).sort_values()\n",
    "    weight_df = pd.DataFrame(weight).reset_index()\n",
    "    weight_df[columns] = ['Features', col]\n",
    "    weight_df['col'].round(3)\n",
    "    return weight_df"
   ]
  },
  {
   "cell_type": "code",
   "execution_count": null,
   "id": "2ff63349",
   "metadata": {},
   "outputs": [],
   "source": [
    "linear_model_weights = get_weights(model, X_train, \"Linear_model_weights\")\n",
    "lasso_weights = get_weights(model, X_train, \"Lasso_weights\")\n",
    "ridge_weights = get_weights(model, X_train, \"Ridge_weights\")"
   ]
  },
  {
   "cell_type": "code",
   "execution_count": null,
   "id": "234a8ccc",
   "metadata": {},
   "outputs": [],
   "source": [
    "final_weights = pd.merge(linear_model_weights, lasso_weights, on=\"Features\")\n",
    "final_weights = pd.merge(final_weights, ridge_weights, on=\"Features\")"
   ]
  },
  {
   "cell_type": "code",
   "execution_count": 19,
   "id": "4c6915b3",
   "metadata": {},
   "outputs": [
    {
     "data": {
      "text/plain": [
       "0        19.200000\n",
       "1        19.200000\n",
       "2        19.200000\n",
       "3        19.200000\n",
       "4        19.200000\n",
       "           ...    \n",
       "19730    25.890000\n",
       "19731    25.754000\n",
       "19732    25.628571\n",
       "19733    25.414000\n",
       "19734    25.264286\n",
       "Name: T2, Length: 19735, dtype: float64"
      ]
     },
     "execution_count": 19,
     "metadata": {},
     "output_type": "execute_result"
    }
   ],
   "source": [
    "lin_df = df[['T2', 'T6']]\n",
    "lin_df['T2']"
   ]
  },
  {
   "cell_type": "code",
   "execution_count": 14,
   "id": "d0406a96",
   "metadata": {},
   "outputs": [],
   "source": [
    "from sklearn.metrics import r2_score\n",
    "from sklearn.model_selection import train_test_split\n",
    "x_train, x_test, y_train, y_test = train_test_split(lin_df['T2'], lin_df['T6'],\n",
    "test_size=0.3, random_state=1)"
   ]
  },
  {
   "cell_type": "code",
   "execution_count": 15,
   "id": "af6a2716",
   "metadata": {},
   "outputs": [],
   "source": [
    "from sklearn.linear_model import LinearRegression\n",
    "linear_model = LinearRegression()"
   ]
  },
  {
   "cell_type": "code",
   "execution_count": 26,
   "id": "4758ac7e",
   "metadata": {},
   "outputs": [],
   "source": [
    "new_list=[[i] for i in list(np.array(x_train))]"
   ]
  },
  {
   "cell_type": "code",
   "execution_count": 27,
   "id": "3e7fd854",
   "metadata": {},
   "outputs": [
    {
     "data": {
      "text/plain": [
       "LinearRegression()"
      ]
     },
     "execution_count": 27,
     "metadata": {},
     "output_type": "execute_result"
    }
   ],
   "source": [
    "import numpy as np\n",
    "linear_model.fit(new_list,y_train)"
   ]
  },
  {
   "cell_type": "code",
   "execution_count": 30,
   "id": "abec907a",
   "metadata": {},
   "outputs": [],
   "source": [
    "new_list1 = [[i] for i in list(np.array(x_test))]"
   ]
  },
  {
   "cell_type": "code",
   "execution_count": 32,
   "id": "545c719b",
   "metadata": {},
   "outputs": [],
   "source": [
    "predicted_values = linear_model.predict(new_list1)"
   ]
  },
  {
   "cell_type": "code",
   "execution_count": 33,
   "id": "35c9ac45",
   "metadata": {},
   "outputs": [],
   "source": [
    "r2_score = r2_score(y_test, predicted_values)"
   ]
  },
  {
   "cell_type": "code",
   "execution_count": 34,
   "id": "af6a4697",
   "metadata": {},
   "outputs": [
    {
     "data": {
      "text/plain": [
       "0.6458740034957209"
      ]
     },
     "execution_count": 34,
     "metadata": {},
     "output_type": "execute_result"
    }
   ],
   "source": [
    "r2_score"
   ]
  },
  {
   "cell_type": "code",
   "execution_count": 56,
   "id": "003629af",
   "metadata": {},
   "outputs": [],
   "source": [
    "target = df['Appliances']"
   ]
  },
  {
   "cell_type": "code",
   "execution_count": 57,
   "id": "9a0ce952",
   "metadata": {},
   "outputs": [
    {
     "data": {
      "text/plain": [
       "Index(['date', 'Appliances', 'lights', 'T1', 'RH_1', 'T2', 'RH_2', 'T3',\n",
       "       'RH_3', 'T4', 'RH_4', 'T5', 'RH_5', 'T6', 'RH_6', 'T7', 'RH_7', 'T8',\n",
       "       'RH_8', 'T9', 'RH_9', 'T_out', 'Press_mm_hg', 'RH_out', 'Windspeed',\n",
       "       'Visibility', 'Tdewpoint', 'rv1', 'rv2'],\n",
       "      dtype='object')"
      ]
     },
     "execution_count": 57,
     "metadata": {},
     "output_type": "execute_result"
    }
   ],
   "source": [
    "df.columns"
   ]
  },
  {
   "cell_type": "code",
   "execution_count": 58,
   "id": "999895bb",
   "metadata": {},
   "outputs": [
    {
     "data": {
      "text/plain": [
       "Index(['date', 'Appliances', 'lights', 'T1', 'RH_1', 'T2', 'RH_2', 'T3',\n",
       "       'RH_3', 'T4', 'RH_4', 'T5', 'RH_5', 'T6', 'RH_6', 'T7', 'RH_7', 'T8',\n",
       "       'RH_8', 'T9', 'RH_9', 'T_out', 'Press_mm_hg', 'RH_out', 'Windspeed',\n",
       "       'Visibility', 'Tdewpoint', 'rv1', 'rv2'],\n",
       "      dtype='object')"
      ]
     },
     "execution_count": 58,
     "metadata": {},
     "output_type": "execute_result"
    }
   ],
   "source": [
    "features_df = df.drop(columns=['date', 'lights'])\n",
    "df.columns"
   ]
  },
  {
   "cell_type": "code",
   "execution_count": 59,
   "id": "f1aff6fb",
   "metadata": {},
   "outputs": [],
   "source": [
    "normalised_df = pd.DataFrame(scaler.fit_transform(features_df), columns=features_df.columns)"
   ]
  },
  {
   "cell_type": "code",
   "execution_count": 60,
   "id": "a314c3a4",
   "metadata": {},
   "outputs": [],
   "source": [
    "x_train1, x_test1, y_train1, y_test1 = train_test_split(normalised_df, target,\n",
    "test_size=0.3, random_state=42)"
   ]
  },
  {
   "cell_type": "code",
   "execution_count": 61,
   "id": "a1e82733",
   "metadata": {},
   "outputs": [],
   "source": [
    "from sklearn.linear_model import LinearRegression"
   ]
  },
  {
   "cell_type": "code",
   "execution_count": 62,
   "id": "f1c22ab9",
   "metadata": {},
   "outputs": [],
   "source": [
    "linear_model1 = LinearRegression()"
   ]
  },
  {
   "cell_type": "code",
   "execution_count": 65,
   "id": "dfe898d1",
   "metadata": {},
   "outputs": [
    {
     "data": {
      "text/plain": [
       "LinearRegression()"
      ]
     },
     "execution_count": 65,
     "metadata": {},
     "output_type": "execute_result"
    }
   ],
   "source": [
    "linear_model1.fit(x_train1,y_train1)"
   ]
  },
  {
   "cell_type": "code",
   "execution_count": 67,
   "id": "ce6516d1",
   "metadata": {},
   "outputs": [],
   "source": [
    "predicted_valuess = linear_model1.predict(x_test1)"
   ]
  },
  {
   "cell_type": "code",
   "execution_count": 68,
   "id": "e41484cb",
   "metadata": {},
   "outputs": [],
   "source": [
    "from sklearn.metrics import mean_absolute_error\n",
    "mae = mean_absolute_error(y_test1, predicted_valuess)"
   ]
  },
  {
   "cell_type": "code",
   "execution_count": 69,
   "id": "b07c1f22",
   "metadata": {},
   "outputs": [
    {
     "data": {
      "text/plain": [
       "1.370398849662968e-13"
      ]
     },
     "execution_count": 69,
     "metadata": {},
     "output_type": "execute_result"
    }
   ],
   "source": [
    "mae"
   ]
  },
  {
   "cell_type": "code",
   "execution_count": 72,
   "id": "9f8b1343",
   "metadata": {},
   "outputs": [
    {
     "data": {
      "text/plain": [
       "8980     4.245965e-26\n",
       "2754     1.262177e-25\n",
       "9132     8.905924e-26\n",
       "14359    1.292470e-26\n",
       "8875     2.908057e-26\n",
       "             ...     \n",
       "831      1.292470e-26\n",
       "10993    2.473868e-27\n",
       "11761    9.895471e-27\n",
       "12364    1.817536e-27\n",
       "11863    1.635782e-26\n",
       "Name: Appliances, Length: 5921, dtype: float64"
      ]
     },
     "execution_count": 72,
     "metadata": {},
     "output_type": "execute_result"
    }
   ],
   "source": [
    "np.square(y_test1 - predicted_valuess)"
   ]
  },
  {
   "cell_type": "code",
   "execution_count": 71,
   "id": "382e863f",
   "metadata": {},
   "outputs": [
    {
     "data": {
      "text/plain": [
       "1.8342740496327338e-22"
      ]
     },
     "execution_count": 71,
     "metadata": {},
     "output_type": "execute_result"
    }
   ],
   "source": [
    "rss"
   ]
  },
  {
   "cell_type": "code",
   "execution_count": null,
   "id": "ca7a7ab4",
   "metadata": {},
   "outputs": [],
   "source": []
  }
 ],
 "metadata": {
  "kernelspec": {
   "display_name": "Python 3",
   "language": "python",
   "name": "python3"
  },
  "language_info": {
   "codemirror_mode": {
    "name": "ipython",
    "version": 3
   },
   "file_extension": ".py",
   "mimetype": "text/x-python",
   "name": "python",
   "nbconvert_exporter": "python",
   "pygments_lexer": "ipython3",
   "version": "3.8.8"
  }
 },
 "nbformat": 4,
 "nbformat_minor": 5
}
